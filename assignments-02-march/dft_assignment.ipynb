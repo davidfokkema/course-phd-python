{
 "cells": [
  {
   "cell_type": "markdown",
   "metadata": {},
   "source": [
    "# Discrete Fourier Transform\n",
    "\n",
    "## Part 1"
   ]
  },
  {
   "cell_type": "code",
   "execution_count": null,
   "metadata": {
    "collapsed": true
   },
   "outputs": [],
   "source": [
    "import numpy as np\n",
    "import random\n",
    "import matplotlib.pyplot as plt\n",
    "\n",
    "print(\"Input Sine Wave Signal:\")\n",
    "N = 360 # degrees (Number of samples)\n",
    "a = random.randint(1, 100)\n",
    "f = random.randint(1, 50)\n",
    "p = random.randint(0, 360)\n",
    "print(\"frequency = {:3d}\".format(f))\n",
    "print(\"amplitude = {:3d}\".format(a))\n",
    "print(\"phase ang = {:3d}\".format(p))"
   ]
  },
  {
   "cell_type": "markdown",
   "metadata": {},
   "source": [
    "### Manually calculate the inverse Fourier transform"
   ]
  },
  {
   "cell_type": "markdown",
   "metadata": {},
   "source": [
    "We can calculate the sine wave with $A\\sin(ft + \\phi)$. Because we are working in degrees, and Python's `sin()` function only understands radians, we need to convert using the `radians()` function."
   ]
  },
  {
   "cell_type": "code",
   "execution_count": null,
   "metadata": {
    "collapsed": true
   },
   "outputs": [],
   "source": [
    "from math import sin, pi, radians\n",
    "\n",
    "f_list = []\n",
    "for n in range(N):\n",
    "    sample = a * sin(radians(f * n + p))\n",
    "    f_list.append(sample)"
   ]
  },
  {
   "cell_type": "code",
   "execution_count": null,
   "metadata": {
    "collapsed": true
   },
   "outputs": [],
   "source": [
    "plt.plot(f_list);"
   ]
  },
  {
   "cell_type": "markdown",
   "metadata": {},
   "source": [
    "We're going to implement the Fourier transform as given on Wolfram Alpha:\n",
    "$$\n",
    "F_n = \\sum_{k=0}^{N-1} f_k e^{-2\\pi ink/N}.\n",
    "$$"
   ]
  },
  {
   "cell_type": "code",
   "execution_count": null,
   "metadata": {
    "collapsed": true
   },
   "outputs": [],
   "source": [
    "from numpy import exp\n",
    "\n",
    "#function to calculate the Discrete Fourier Transform\n",
    "def DFT(f_list):\n",
    "    N = len(f_list)\n",
    "    DFT_list = []\n",
    "    for n in range(N):\n",
    "        Fn = 0.0\n",
    "        for k in range(N):\n",
    "            Fn += f_list[k] * exp(-2j * pi * n * k / N)\n",
    "        DFT_list.append(Fn)\n",
    "    return DFT_list        "
   ]
  },
  {
   "cell_type": "code",
   "execution_count": null,
   "metadata": {
    "collapsed": true
   },
   "outputs": [],
   "source": [
    "DFT_list = DFT(f_list)"
   ]
  },
  {
   "cell_type": "code",
   "execution_count": null,
   "metadata": {
    "collapsed": true
   },
   "outputs": [],
   "source": [
    "for n, coefficient in enumerate(DFT_list[:10]):\n",
    "    print(\"F_{:<3d} = {}\".format(n, coefficient))"
   ]
  },
  {
   "cell_type": "code",
   "execution_count": null,
   "metadata": {
    "collapsed": true
   },
   "outputs": [],
   "source": [
    "plt.plot(np.absolute(DFT_list));"
   ]
  },
  {
   "cell_type": "markdown",
   "metadata": {},
   "source": [
    "We're going to implement the *inverse* Fourier transform as given on Wolfram Alpha:\n",
    "$$\n",
    "f_k = \\frac{1}{N} \\sum_{n=0}^{N-1} F_n e^{2\\pi ikn/N}.\n",
    "$$"
   ]
  },
  {
   "cell_type": "code",
   "execution_count": null,
   "metadata": {
    "collapsed": true
   },
   "outputs": [],
   "source": [
    "#function to calculate the inverse Fourier transform\n",
    "def inverse_DFT(DFT_list):\n",
    "    N = len(DFT_list)\n",
    "    f_list = []\n",
    "    for k in range(N):\n",
    "        fk = 0.0\n",
    "        for n in range(N):\n",
    "            fk += DFT_list[n] * exp(2j * pi * k * n / N)\n",
    "        f_list.append(fk / N)\n",
    "    return f_list        "
   ]
  },
  {
   "cell_type": "code",
   "execution_count": null,
   "metadata": {
    "collapsed": true
   },
   "outputs": [],
   "source": [
    "f_list2 = inverse_DFT(DFT_list)"
   ]
  },
  {
   "cell_type": "code",
   "execution_count": null,
   "metadata": {
    "collapsed": true
   },
   "outputs": [],
   "source": [
    "for n, (coefficient1, coefficient2) in enumerate(zip(f_list, f_list2[:10])):\n",
    "    print(\"f_{:<3d} = {}\\t{}\".format(n, coefficient1, coefficient2))"
   ]
  },
  {
   "cell_type": "markdown",
   "metadata": {},
   "source": [
    "Unfortunately, due to rounding errors, we're still seeing small imaginary values. They really are small. Let's calculate the largest absolute value of the imaginary parts:"
   ]
  },
  {
   "cell_type": "code",
   "execution_count": null,
   "metadata": {},
   "outputs": [],
   "source": [
    "np.max(np.abs(np.imag(f_list2)))"
   ]
  },
  {
   "cell_type": "markdown",
   "metadata": {},
   "source": [
    "So, indeed, rounding errors. Let's make `f_list2` real by ignoring the imaginary part:"
   ]
  },
  {
   "cell_type": "code",
   "execution_count": null,
   "metadata": {},
   "outputs": [],
   "source": [
    "f_list2 = [np.real(u) for u in f_list2]"
   ]
  },
  {
   "cell_type": "code",
   "execution_count": null,
   "metadata": {},
   "outputs": [],
   "source": [
    "for n, (coefficient1, coefficient2) in enumerate(zip(f_list, f_list2[:10])):\n",
    "    print(\"f_{:<3d} = {}\\t{}\".format(n, coefficient1, coefficient2))"
   ]
  },
  {
   "cell_type": "markdown",
   "metadata": {},
   "source": [
    "Let's see if the original and recreated values are the same:"
   ]
  },
  {
   "cell_type": "code",
   "execution_count": null,
   "metadata": {},
   "outputs": [],
   "source": [
    "plt.plot(f_list)\n",
    "plt.plot(f_list2);"
   ]
  },
  {
   "cell_type": "markdown",
   "metadata": {},
   "source": [
    "They are! The plotted lines coincide."
   ]
  },
  {
   "cell_type": "markdown",
   "metadata": {},
   "source": [
    "### Again, but now with some NumPy magic\n",
    "\n",
    "Calculating the original samples:"
   ]
  },
  {
   "cell_type": "code",
   "execution_count": null,
   "metadata": {},
   "outputs": [],
   "source": [
    "n = np.arange(N)\n",
    "f_n = a * np.sin(np.radians(f * n + p))"
   ]
  },
  {
   "cell_type": "code",
   "execution_count": null,
   "metadata": {},
   "outputs": [],
   "source": [
    "plt.plot(f_n);"
   ]
  },
  {
   "cell_type": "markdown",
   "metadata": {},
   "source": [
    "Again, the Fourier transform as given on Wolfram Alpha:\n",
    "$$\n",
    "F_n = \\sum_{k=0}^{N-1} f_k e^{-2\\pi ink/N}.\n",
    "$$\n",
    "First, building values for $k$, and creating $f_k$, which is simply identical to $f_n$ (we only do this to be able to write down the python code as closely as possible to the mathematical formula):"
   ]
  },
  {
   "cell_type": "code",
   "execution_count": null,
   "metadata": {},
   "outputs": [],
   "source": [
    "k = np.arange(N)\n",
    "f_k = f_n"
   ]
  },
  {
   "cell_type": "markdown",
   "metadata": {},
   "source": [
    "Now, we calculate $F_n$. The entire calculation of the coefficients is done like this (explained below):"
   ]
  },
  {
   "cell_type": "code",
   "execution_count": null,
   "metadata": {},
   "outputs": [],
   "source": [
    "F_n = np.array([(f_k * exp(-2j * pi * n * k / N)).sum() for n in range(N)])"
   ]
  },
  {
   "cell_type": "markdown",
   "metadata": {},
   "source": [
    "The inner part (`f_k * np.exp(... * k ...)`) uses NumPy magic. Because both `k` and `f_k` are NumPy arrays, they perform the calculation for all values of the array, without us requiring to build a loop. Multiplying the two arrays (using the `*` operator) simply performs element-wise multiplication, like this:"
   ]
  },
  {
   "cell_type": "code",
   "execution_count": null,
   "metadata": {},
   "outputs": [],
   "source": [
    "a = np.array([1, 2, 3])\n",
    "b = np.array([4, 5, 6])\n",
    "print(a)\n",
    "print(b)\n",
    "print(a * b)"
   ]
  },
  {
   "cell_type": "markdown",
   "metadata": {},
   "source": [
    "The outer part (`[(...) for n in range(N)]`) is a list comprehension which loops over `n`, and creates a list, which we then turn into an array using `np.array()`. Then, we have an array of all $F_n$.\n",
    "\n",
    "Unfortunately, we do have rounding errors in our calculations, leading to slightly different results between the two algorithms. The difference between the results can be significant, but only for very, very small values of the coefficients. We're only going to print the coefficients in the neighbourhood of our frequency `f`."
   ]
  },
  {
   "cell_type": "code",
   "execution_count": null,
   "metadata": {},
   "outputs": [],
   "source": [
    "start, end = f - 10, f + 10\n",
    "print('\\tF_n\\t\\tDFT_list')\n",
    "for n, (coefficient1, coefficient2) in enumerate(zip(F_n[start:end], DFT_list[start:end]), start):\n",
    "    print(\"F_{:<3d} =\\t{:.2e}\\t{:.2e}\".format(n, np.absolute(coefficient1), np.absolute(coefficient2)))"
   ]
  },
  {
   "cell_type": "markdown",
   "metadata": {},
   "source": [
    "We can plot the two results to visually inspect if they are (more or less) identical:"
   ]
  },
  {
   "cell_type": "code",
   "execution_count": null,
   "metadata": {},
   "outputs": [],
   "source": [
    "plt.plot(np.absolute(F_n))\n",
    "plt.plot(np.absolute(DFT_list))"
   ]
  },
  {
   "cell_type": "markdown",
   "metadata": {},
   "source": [
    "And again, the *inverse* Fourier transform as given on Wolfram Alpha:\n",
    "$$\n",
    "f_k = \\frac{1}{N} \\sum_{n=0}^{N-1} F_n e^{2\\pi ikn/N}.\n",
    "$$"
   ]
  },
  {
   "cell_type": "code",
   "execution_count": null,
   "metadata": {},
   "outputs": [],
   "source": [
    "n = np.arange(N)\n",
    "f2_k = 1 / N * np.array([(F_n * exp(2j * pi * k * n / N)).sum() for k in range(N)])"
   ]
  },
  {
   "cell_type": "code",
   "execution_count": null,
   "metadata": {},
   "outputs": [],
   "source": [
    "for n, (coefficient1, coefficient2) in enumerate(zip(f_n, f2_k[:10])):\n",
    "    print(\"f_{:<3d} = {}\\t{}\".format(n, coefficient1, coefficient2))\n",
    "    \n",
    "print(\"\\nMaximum deviation from zero for the imaginary parts: {}j\".format(np.max(np.abs(np.imag(f2_k)))))\n",
    "\n",
    "f2_k = np.real(f2_k)"
   ]
  },
  {
   "cell_type": "markdown",
   "metadata": {},
   "source": [
    "Again, rounding errors result in small imaginary values."
   ]
  },
  {
   "cell_type": "code",
   "execution_count": null,
   "metadata": {},
   "outputs": [],
   "source": [
    "plt.plot(f_n)\n",
    "plt.plot(f2_k);"
   ]
  },
  {
   "cell_type": "markdown",
   "metadata": {},
   "source": [
    "### Why bother with NumPy?\n",
    "\n",
    "Well, for two reasons, basically. Firstly, once you get the hang of it, writing the Fourier transform using NumPy was *much* shorter than writing the function. Secondly, the NumPy code runs *much* faster. Let's time and compare the two methods:"
   ]
  },
  {
   "cell_type": "code",
   "execution_count": null,
   "metadata": {},
   "outputs": [],
   "source": [
    "%timeit DFT(f_list)"
   ]
  },
  {
   "cell_type": "code",
   "execution_count": null,
   "metadata": {},
   "outputs": [],
   "source": [
    "%timeit np.array([(f_k * exp(-2j * pi * n * k / N)).sum() for n in range(N)])"
   ]
  },
  {
   "cell_type": "markdown",
   "metadata": {},
   "source": [
    "That's a speedup factor of about 20-30, depending on the exact signal."
   ]
  },
  {
   "cell_type": "markdown",
   "metadata": {},
   "source": [
    "## Part 2\n",
    "\n",
    "### Generating a tone and plotting a spectrogram"
   ]
  },
  {
   "cell_type": "code",
   "execution_count": null,
   "metadata": {},
   "outputs": [],
   "source": [
    "from scipy import signal"
   ]
  },
  {
   "cell_type": "code",
   "execution_count": null,
   "metadata": {},
   "outputs": [],
   "source": [
    "def make_tone(frequency, samplerate, duration):\n",
    "    t = np.linspace(0, duration, samplerate * duration)\n",
    "    signal = np.sin(2 * pi * frequency * t)\n",
    "    return t, signal"
   ]
  },
  {
   "cell_type": "code",
   "execution_count": null,
   "metadata": {},
   "outputs": [],
   "source": [
    "SAMPLE_RATE = 44100\n",
    "_, tone = make_tone(1000, SAMPLE_RATE, 2)"
   ]
  },
  {
   "cell_type": "code",
   "execution_count": null,
   "metadata": {},
   "outputs": [],
   "source": [
    "freq, time, psd = signal.spectrogram(tone, fs=SAMPLE_RATE)"
   ]
  },
  {
   "cell_type": "markdown",
   "metadata": {},
   "source": [
    "The function `pcolormesh` wants the arguments reversed or the color values transposed. I don't know why, but you can flip the $x-$ and $y-$axes and *not* transpose the power spectral density array."
   ]
  },
  {
   "cell_type": "code",
   "execution_count": null,
   "metadata": {},
   "outputs": [],
   "source": [
    "f = plt.pcolormesh(freq, time, psd.T)\n",
    "plt.colorbar(f)\n",
    "plt.xlabel(\"Frequency\")\n",
    "plt.ylabel(\"Time\");"
   ]
  },
  {
   "cell_type": "markdown",
   "metadata": {},
   "source": [
    "### Comparing two resampling methods: `resampy.resample` and `scipy.signal.resample`"
   ]
  },
  {
   "cell_type": "code",
   "execution_count": null,
   "metadata": {},
   "outputs": [],
   "source": [
    "import resampy\n",
    "\n",
    "NEW_SAMPLE_RATE = 16000"
   ]
  },
  {
   "cell_type": "code",
   "execution_count": null,
   "metadata": {},
   "outputs": [],
   "source": [
    "def plot_spectrogram(s, sample_rate):\n",
    "    freq, time, psd = signal.spectrogram(s, fs=sample_rate)\n",
    "    f = plt.pcolormesh(freq, time, psd.T)\n",
    "    plt.colorbar(f)\n",
    "    plt.xlabel(\"Frequency\")\n",
    "    plt.ylabel(\"Time\");"
   ]
  },
  {
   "cell_type": "code",
   "execution_count": null,
   "metadata": {},
   "outputs": [],
   "source": [
    "resampled1 = resampy.resample(tone, SAMPLE_RATE, NEW_SAMPLE_RATE)\n",
    "plot_spectrogram(resampled1, NEW_SAMPLE_RATE)"
   ]
  },
  {
   "cell_type": "code",
   "execution_count": null,
   "metadata": {},
   "outputs": [],
   "source": [
    "duration = len(tone) / SAMPLE_RATE\n",
    "num_samples = int(duration * NEW_SAMPLE_RATE)\n",
    "resampled2 = signal.resample(tone, num=num_samples)\n",
    "plot_spectrogram(resampled2, NEW_SAMPLE_RATE)"
   ]
  },
  {
   "cell_type": "markdown",
   "metadata": {},
   "source": [
    "### Repeat, using a sample audio file"
   ]
  },
  {
   "cell_type": "code",
   "execution_count": null,
   "metadata": {},
   "outputs": [],
   "source": [
    "from scipy.io import wavfile"
   ]
  },
  {
   "cell_type": "markdown",
   "metadata": {},
   "source": [
    "Import the audio file and only take the first two seconds from the left audio channel. This makes it easier to visually inspect the spectrogram."
   ]
  },
  {
   "cell_type": "code",
   "execution_count": null,
   "metadata": {},
   "outputs": [],
   "source": [
    "sample_rate, audio = wavfile.read('muziek_48kHz.wav')\n",
    "sample = audio[:2 * sample_rate, 0]"
   ]
  },
  {
   "cell_type": "code",
   "execution_count": null,
   "metadata": {},
   "outputs": [],
   "source": [
    "plot_spectrogram(sample, sample_rate)"
   ]
  },
  {
   "cell_type": "code",
   "execution_count": null,
   "metadata": {},
   "outputs": [],
   "source": [
    "resampled1 = resampy.resample(sample, sample_rate, NEW_SAMPLE_RATE)\n",
    "plot_spectrogram(resampled1, NEW_SAMPLE_RATE)"
   ]
  },
  {
   "cell_type": "code",
   "execution_count": null,
   "metadata": {},
   "outputs": [],
   "source": [
    "duration = len(sample) / sample_rate\n",
    "num_samples = int(duration * NEW_SAMPLE_RATE)\n",
    "resampled2 = signal.resample(sample, num=num_samples)\n",
    "plot_spectrogram(resampled2, NEW_SAMPLE_RATE)"
   ]
  },
  {
   "cell_type": "markdown",
   "metadata": {},
   "source": [
    "Both resampling methods seem to return more or less the same result. Of course, since we resample down to 16000 samples per second, we lose all frequency components above 8000 Hz. In that sense, the resampled signal is very different from the original. Still, both `resampy` and `scipy.signal` seem to do a decent job. Let's make sure the two methods actually *are* different:"
   ]
  },
  {
   "cell_type": "code",
   "execution_count": null,
   "metadata": {},
   "outputs": [],
   "source": [
    "resampled1 == resampled2"
   ]
  },
  {
   "cell_type": "markdown",
   "metadata": {},
   "source": [
    "Well, that settles it. They are numerically different, but both spectrograms look about the same."
   ]
  },
  {
   "cell_type": "code",
   "execution_count": null,
   "metadata": {},
   "outputs": [],
   "source": []
  }
 ],
 "metadata": {
  "kernelspec": {
   "display_name": "Python 3",
   "language": "python",
   "name": "python3"
  },
  "language_info": {
   "codemirror_mode": {
    "name": "ipython",
    "version": 3
   },
   "file_extension": ".py",
   "mimetype": "text/x-python",
   "name": "python",
   "nbconvert_exporter": "python",
   "pygments_lexer": "ipython3",
   "version": "3.6.4"
  }
 },
 "nbformat": 4,
 "nbformat_minor": 2
}
