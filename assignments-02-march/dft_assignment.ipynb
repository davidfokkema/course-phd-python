{
 "cells": [
  {
   "cell_type": "markdown",
   "metadata": {},
   "source": [
    "# Discrete Fourier Transform"
   ]
  },
  {
   "cell_type": "code",
   "execution_count": null,
   "metadata": {
    "collapsed": true
   },
   "outputs": [],
   "source": [
    "import numpy as np\n",
    "import random\n",
    "import matplotlib.pyplot as plt\n",
    "\n",
    "print(\"Input Sine Wave Signal:\")\n",
    "N = 360 # degrees (Number of samples)\n",
    "a = random.randint(1, 100)\n",
    "f = random.randint(1, 100)\n",
    "p = random.randint(0, 360)\n",
    "print(\"frequency = {:3d}\".format(f))\n",
    "print(\"amplitude = {:3d}\".format(a))\n",
    "print(\"phase ang = {:3d}\".format(p))"
   ]
  },
  {
   "cell_type": "markdown",
   "metadata": {},
   "source": [
    "## Manually calculate the inverse Fourier transform"
   ]
  },
  {
   "cell_type": "markdown",
   "metadata": {},
   "source": [
    "We can calculate the sine wave with $A\\sin(ft + \\phi)$. Because we are working in degrees, and Python's `sin()` function only understands radians, we need to convert using the `radians()` function."
   ]
  },
  {
   "cell_type": "code",
   "execution_count": null,
   "metadata": {
    "collapsed": true
   },
   "outputs": [],
   "source": [
    "from math import sin, pi, radians\n",
    "\n",
    "f_list = []\n",
    "for n in range(N):\n",
    "    sample = a * sin(radians(f * n + p))\n",
    "    f_list.append(sample)"
   ]
  },
  {
   "cell_type": "code",
   "execution_count": null,
   "metadata": {
    "collapsed": true
   },
   "outputs": [],
   "source": [
    "plt.plot(f_list)"
   ]
  },
  {
   "cell_type": "markdown",
   "metadata": {},
   "source": [
    "We're going to implement the Fourier transform as given on Wolfram Alpha:\n",
    "$$\n",
    "F_n = \\sum_{k=0}^{N-1} f_k e^{-2\\pi ink/N}.\n",
    "$$"
   ]
  },
  {
   "cell_type": "code",
   "execution_count": null,
   "metadata": {
    "collapsed": true
   },
   "outputs": [],
   "source": [
    "from numpy import exp\n",
    "\n",
    "#function to calculate the Discrete Fourier Transform\n",
    "def DFT(f_list):\n",
    "    N = len(f_list)\n",
    "    DFT_list = []\n",
    "    for n in range(N):\n",
    "        Fn = 0.0\n",
    "        for k in range(N):\n",
    "            Fn += f_list[k] * exp(-2j * pi * n * k / N)\n",
    "        DFT_list.append(Fn)\n",
    "    return DFT_list        "
   ]
  },
  {
   "cell_type": "code",
   "execution_count": null,
   "metadata": {
    "collapsed": true
   },
   "outputs": [],
   "source": [
    "DFT_list = DFT(f_list)"
   ]
  },
  {
   "cell_type": "code",
   "execution_count": null,
   "metadata": {
    "collapsed": true
   },
   "outputs": [],
   "source": [
    "for n, coefficient in enumerate(DFT_list[:20]):\n",
    "    print(\"F_{:<3d} = {}\".format(n, coefficient))"
   ]
  },
  {
   "cell_type": "code",
   "execution_count": null,
   "metadata": {
    "collapsed": true
   },
   "outputs": [],
   "source": [
    "plt.plot(np.absolute(DFT_list))"
   ]
  },
  {
   "cell_type": "markdown",
   "metadata": {},
   "source": [
    "We're going to implement the *inverse* Fourier transform as given on Wolfram Alpha:\n",
    "$$\n",
    "f_k = \\frac{1}{N} \\sum_{n=0}^{N-1} F_n e^{2\\pi ikn/N}.\n",
    "$$"
   ]
  },
  {
   "cell_type": "code",
   "execution_count": null,
   "metadata": {
    "collapsed": true
   },
   "outputs": [],
   "source": [
    "#function to calculate the inverse Fourier transform\n",
    "def inverse_DFT(DFT_list):\n",
    "    N = len(DFT_list)\n",
    "    f_list = []\n",
    "    for k in range(N):\n",
    "        fk = 0.0\n",
    "        for n in range(N):\n",
    "            fk += DFT_list[n] * exp(2j * pi * k * n / N)\n",
    "        f_list.append(fk / N)\n",
    "    return f_list        "
   ]
  },
  {
   "cell_type": "code",
   "execution_count": null,
   "metadata": {
    "collapsed": true
   },
   "outputs": [],
   "source": [
    "f_list2 = inverse_DFT(DFT_list)"
   ]
  },
  {
   "cell_type": "code",
   "execution_count": null,
   "metadata": {
    "collapsed": true
   },
   "outputs": [],
   "source": [
    "for n, (coefficient1, coefficient2) in enumerate(zip(f_list, f_list2[:10])):\n",
    "    print(\"f_{:<3d} = {}\\t{}\".format(n, coefficient1, coefficient2))"
   ]
  },
  {
   "cell_type": "markdown",
   "metadata": {},
   "source": [
    "Unfortunately, due to rounding errors, we're still seeing small imaginary values. They really are small. Let's calculate the largest absolute value of the imaginary parts:"
   ]
  },
  {
   "cell_type": "code",
   "execution_count": null,
   "metadata": {},
   "outputs": [],
   "source": [
    "np.max(np.abs(np.imag(f_list2)))"
   ]
  },
  {
   "cell_type": "markdown",
   "metadata": {},
   "source": [
    "So, indeed, rounding errors. Let's make `f_list2` real by ignoring the imaginary part:"
   ]
  },
  {
   "cell_type": "code",
   "execution_count": null,
   "metadata": {},
   "outputs": [],
   "source": [
    "f_list2 = [np.real(u) for u in f_list2]"
   ]
  },
  {
   "cell_type": "code",
   "execution_count": null,
   "metadata": {},
   "outputs": [],
   "source": [
    "for n, (coefficient1, coefficient2) in enumerate(zip(f_list, f_list2[:10])):\n",
    "    print(\"f_{:<3d} = {}\\t{}\".format(n, coefficient1, coefficient2))"
   ]
  },
  {
   "cell_type": "markdown",
   "metadata": {},
   "source": [
    "Let's see if the original and recreated values are the same:"
   ]
  },
  {
   "cell_type": "code",
   "execution_count": null,
   "metadata": {},
   "outputs": [],
   "source": [
    "plt.plot(f_list)\n",
    "plt.plot(f_list2)"
   ]
  },
  {
   "cell_type": "markdown",
   "metadata": {},
   "source": [
    "They are! The plotted lines coincide."
   ]
  },
  {
   "cell_type": "markdown",
   "metadata": {},
   "source": [
    "## Again, but now with some NumPy magic\n",
    "\n",
    "Calculating the original samples:"
   ]
  },
  {
   "cell_type": "code",
   "execution_count": null,
   "metadata": {},
   "outputs": [],
   "source": [
    "n = np.arange(N)\n",
    "f_list = a * np.sin(np.radians(f * n + p))"
   ]
  },
  {
   "cell_type": "code",
   "execution_count": null,
   "metadata": {},
   "outputs": [],
   "source": [
    "plt.plot(f_list)"
   ]
  },
  {
   "cell_type": "code",
   "execution_count": null,
   "metadata": {},
   "outputs": [],
   "source": []
  }
 ],
 "metadata": {
  "kernelspec": {
   "display_name": "Python 3",
   "language": "python",
   "name": "python3"
  },
  "language_info": {
   "codemirror_mode": {
    "name": "ipython",
    "version": 3
   },
   "file_extension": ".py",
   "mimetype": "text/x-python",
   "name": "python",
   "nbconvert_exporter": "python",
   "pygments_lexer": "ipython3",
   "version": "3.6.4"
  }
 },
 "nbformat": 4,
 "nbformat_minor": 2
}
