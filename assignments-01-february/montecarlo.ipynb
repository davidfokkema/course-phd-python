{
 "cells": [
  {
   "cell_type": "markdown",
   "metadata": {},
   "source": [
    "# Monte Carlo integration"
   ]
  },
  {
   "cell_type": "code",
   "execution_count": 1,
   "metadata": {},
   "outputs": [],
   "source": [
    "import matplotlib.pyplot as plt\n",
    "\n",
    "import numpy as np"
   ]
  },
  {
   "cell_type": "markdown",
   "metadata": {},
   "source": [
    "Because we're going to work with a function that has poles at the boundaries of the domain $[0, 2]$, we have two options: slightly shift the domain to $[0 + \\epsilon, 2 - \\epsilon]$ for a small value of $\\epsilon$, or simply ignore divide by zero and invalid value errors. These `NaN` values are ignored by NumPy in all calculations, and we can leave the domain intact. Note that the following statement is completely unnecessary, but if left out, warnings will be generated. The semicolon at the end of the statement suppresses the (useless and distracting) output from the `seterr()` function."
   ]
  },
  {
   "cell_type": "code",
   "execution_count": 2,
   "metadata": {},
   "outputs": [],
   "source": [
    "np.seterr(divide='ignore', invalid='ignore');"
   ]
  },
  {
   "cell_type": "markdown",
   "metadata": {},
   "source": [
    "We define our function $f(x) = \\sin^2\\left[\\frac{1}{x(2-x)}\\right]$ using the short-hand `lambda`-notation:"
   ]
  },
  {
   "cell_type": "code",
   "execution_count": 3,
   "metadata": {},
   "outputs": [],
   "source": [
    "f = lambda x: np.sin(1 / (x * (2 - x))) ** 2"
   ]
  },
  {
   "cell_type": "markdown",
   "metadata": {},
   "source": [
    "Now, we create a sample of 1000 linearly spaced values on the domain $[0, 2]$ and plot our function. (Again, the semicolon in the final plot statement suppresses distracting output)."
   ]
  },
  {
   "cell_type": "code",
   "execution_count": 4,
   "metadata": {},
   "outputs": [
    {
     "data": {
      "image/png": "[encoded data removed]",
      "text/plain": [
       "<Figure size 432x288 with 1 Axes>"
      ]
     },
     "metadata": {},
     "output_type": "display_data"
    }
   ],
   "source": [
    "x = np.linspace(0, 2, 1000)\n",
    "plt.plot(x, f(x));"
   ]
  },
  {
   "cell_type": "markdown",
   "metadata": {},
   "source": [
    "Monte Carlo integration is actually the name for a large number of different algorithms. We pick the following one: when evaluating $\\int_a^b f(x)\\,\\mathrm{d}x$ where we know that in the domain $[a, b]$ the range of the function $f(x)$ is within $[0, y_\\mathrm{max}]$, we generate random $(x, y)$ pairs with $x \\in [a, b]$ and $y \\in [0, y_\\mathrm{max}]$. For each $(x, y)$ pair we determine whether the point lies under the curve by checking if $y \\leq f(x)$. Then, the integral is given by the fraction of points lying under the curve multiplied by the area of the rectangle on which the $(x, y)$ pairs were sampled."
   ]
  },
  {
   "cell_type": "code",
   "execution_count": 5,
   "metadata": {},
   "outputs": [],
   "source": [
    "def integrate(f, a, b, N, ymax):\n",
    "    \"\"\"Perform a numerical integration using a Monte Carlo method.\n",
    "\n",
    "    :param f: function for which to calculate the integral\n",
    "    :param a: start of the interval on the x-axis\n",
    "    :param b: end of the interval\n",
    "    :param N: number of points to estimate the integral\n",
    "    :param ymax: boundary which encloses function. Choose this as low as\n",
    "        possible, but make sure it is always larger than the value of\n",
    "        the function.\n",
    "\n",
    "    :returns: estimate of the integral of the function on [a, b]\n",
    "\n",
    "    \"\"\"\n",
    "    x = np.linspace(a, b, N)\n",
    "    y = np.random.uniform(0, ymax, N)\n",
    "\n",
    "    y_f = f(x)\n",
    "    fraction = (y <= y_f).sum() / N\n",
    "\n",
    "    total_area = ymax * (b - a)\n",
    "    return fraction * total_area"
   ]
  },
  {
   "cell_type": "markdown",
   "metadata": {},
   "source": [
    "We test the algorithm with the function $f(x) = x$ which should give us $\\int_0^{10} x\\,\\mathrm{d}x = \\left. \\frac{1}{2}x^2 \\right\\rvert_0^{10} = 50$. We estimate the integral using 100000 function evaluations, expecting the function to always be smaller than the value 10:"
   ]
  },
  {
   "cell_type": "code",
   "execution_count": 6,
   "metadata": {},
   "outputs": [
    {
     "data": {
      "text/plain": [
       "49.925000000000004"
      ]
     },
     "execution_count": 6,
     "metadata": {},
     "output_type": "execute_result"
    }
   ],
   "source": [
    "integrate(lambda x: x, 0, 10, 100000, 10)"
   ]
  },
  {
   "cell_type": "markdown",
   "metadata": {},
   "source": [
    "Finally, we estimate $\\int_0^2 \\sin^2\\left[\\frac{1}{x(2-x)}\\right]\\mathrm{d}x$, for which we expect the function to always be smaller than 2:"
   ]
  },
  {
   "cell_type": "code",
   "execution_count": 7,
   "metadata": {},
   "outputs": [
    {
     "data": {
      "text/plain": [
       "1.4511556"
      ]
     },
     "execution_count": 7,
     "metadata": {},
     "output_type": "execute_result"
    }
   ],
   "source": [
    "integrate(f, 0, 2, 10000000, 2)"
   ]
  }
 ],
 "metadata": {
  "kernelspec": {
   "display_name": "Python 3",
   "language": "python",
   "name": "python3"
  },
  "language_info": {
   "codemirror_mode": {
    "name": "ipython",
    "version": 3
   },
   "file_extension": ".py",
   "mimetype": "text/x-python",
   "name": "python",
   "nbconvert_exporter": "python",
   "pygments_lexer": "ipython3",
   "version": "3.6.4"
  }
 },
 "nbformat": 4,
 "nbformat_minor": 2
}
